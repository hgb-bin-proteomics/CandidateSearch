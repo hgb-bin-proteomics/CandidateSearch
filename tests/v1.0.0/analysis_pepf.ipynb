{
 "cells": [
  {
   "cell_type": "code",
   "execution_count": 1,
   "id": "64b59255-a5e7-4e51-a5bb-eb4737606392",
   "metadata": {},
   "outputs": [],
   "source": [
    "import pandas as pd\n",
    "\n",
    "amanda_psms = pd.read_excel(\"msamanda_percolator_1%.xlsx\")"
   ]
  },
  {
   "cell_type": "code",
   "execution_count": 2,
   "id": "4aae7e83-dc1b-4942-9850-88ab3b15ec81",
   "metadata": {},
   "outputs": [],
   "source": [
    "import re\n",
    "\n",
    "mod_dict = {\"Carbamidomethyl\": \"57.021464\", \"Oxidation\": \"15.994915\"}\n",
    "\n",
    "def get_peptidoform(row):\n",
    "    seq = str(row[\"Annotated Sequence\"]).upper()\n",
    "    if str(row[\"Modifications\"]) == \"nan\":\n",
    "        return seq + \"[]\"\n",
    "    seq += \"[\"\n",
    "    for modification in str(row[\"Modifications\"]).split(\";\"):\n",
    "        mod = modification.strip()\n",
    "        if mod != \"\":\n",
    "            modmass = mod_dict[mod.split(\"(\")[1].split(\")\")[0].strip()]\n",
    "            modplace = int(re.sub(r\"[^0-9]\", \"\", mod.split(\"(\")[0]).strip()) - 1\n",
    "            seq += str(modplace) + \":\" + modmass + \"+\"\n",
    "    seq = seq.rstrip(\"+\")\n",
    "    seq += \"]\"\n",
    "    return seq"
   ]
  },
  {
   "cell_type": "code",
   "execution_count": 3,
   "id": "00f6e3cb-8e69-421d-816d-de08d864b83d",
   "metadata": {},
   "outputs": [],
   "source": [
    "psms = dict()\n",
    "\n",
    "for i, row in amanda_psms.iterrows():\n",
    "    psms[int(row[\"First Scan\"])] = get_peptidoform(row)"
   ]
  },
  {
   "cell_type": "code",
   "execution_count": 4,
   "id": "2a8d7da1-ee50-40f1-a0e5-a5d8c4a15080",
   "metadata": {},
   "outputs": [],
   "source": [
    "def get_candidates(filename, top_n, nr_lines = \"all\", start = 0):\n",
    "    candidates = dict()\n",
    "\n",
    "    with open(filename, \"r\", encoding = \"utf-8\") as f:\n",
    "        lines = f.readlines()\n",
    "        f.close()\n",
    "\n",
    "    if nr_lines == \"all\":\n",
    "        for line in lines[1:]:\n",
    "            values = line.split(\";\")\n",
    "            candidates[int(values[0])] = [val.replace(\"_\", \"\") for val in values[1].split(\",\")[:top_n]]\n",
    "    else:\n",
    "        for i, line in enumerate(lines[1:]):\n",
    "            if i > start:\n",
    "                if i >= nr_lines:\n",
    "                    break\n",
    "                values = line.split(\";\")\n",
    "                candidates[int(values[0])] = [val.replace(\"_\", \"\") for val in values[1].split(\",\")[:top_n]]\n",
    "\n",
    "    return candidates"
   ]
  },
  {
   "cell_type": "code",
   "execution_count": 5,
   "id": "b981c7f6-baad-4e6d-8c05-7322e30abfa8",
   "metadata": {},
   "outputs": [],
   "source": [
    "def get_coverage(psms, candidates, top_n):\n",
    "    found_candidates = 0\n",
    "    \n",
    "    for psm in psms:\n",
    "        candidates_for_scan = candidates[psm][:top_n]\n",
    "        pep = psms[psm]\n",
    "        if pep in candidates_for_scan:\n",
    "            found_candidates += 1\n",
    "    \n",
    "    print(found_candidates/len(psms))\n",
    "    return"
   ]
  },
  {
   "cell_type": "code",
   "execution_count": 6,
   "id": "75de13c3-2504-4071-9419-3c5566266762",
   "metadata": {},
   "outputs": [],
   "source": [
    "def get_coverage_lines(psms, candidates, top_n):\n",
    "    found_candidates = 0\n",
    "    total_psms_searched = 0\n",
    "    \n",
    "    for psm in psms:\n",
    "        if psm in candidates:\n",
    "            total_psms_searched += 1\n",
    "            candidates_for_scan = candidates[psm][:top_n]\n",
    "            pep = psms[psm]\n",
    "            if pep in candidates_for_scan:\n",
    "                found_candidates += 1\n",
    "    \n",
    "    print(found_candidates/total_psms_searched)\n",
    "    return"
   ]
  },
  {
   "cell_type": "code",
   "execution_count": 7,
   "id": "a30df524-d012-4c93-8fdb-d4c909f6af26",
   "metadata": {},
   "outputs": [
    {
     "name": "stdout",
     "output_type": "stream",
     "text": [
      "0.9709368751785205\n",
      "0.9597972007997715\n",
      "0.925235646958012\n",
      "0.9036703798914596\n"
     ]
    }
   ],
   "source": [
    "candidates = get_candidates(\"test_pepf.csv\", 1000)\n",
    "get_coverage(psms, candidates, 1000)\n",
    "get_coverage(psms, candidates, 500)\n",
    "get_coverage(psms, candidates, 100)\n",
    "get_coverage(psms, candidates, 50)"
   ]
  },
  {
   "cell_type": "code",
   "execution_count": null,
   "id": "9729b1da-3c2d-4e47-9aac-e63289bf2920",
   "metadata": {},
   "outputs": [],
   "source": []
  }
 ],
 "metadata": {
  "kernelspec": {
   "display_name": "Python 3 (ipykernel)",
   "language": "python",
   "name": "python3"
  },
  "language_info": {
   "codemirror_mode": {
    "name": "ipython",
    "version": 3
   },
   "file_extension": ".py",
   "mimetype": "text/x-python",
   "name": "python",
   "nbconvert_exporter": "python",
   "pygments_lexer": "ipython3",
   "version": "3.12.0"
  }
 },
 "nbformat": 4,
 "nbformat_minor": 5
}
